{
 "cells": [
  {
   "cell_type": "code",
   "execution_count": 1,
   "id": "22f1bce2",
   "metadata": {},
   "outputs": [],
   "source": [
    "data= 'python' "
   ]
  },
  {
   "cell_type": "code",
   "execution_count": 2,
   "id": "345dfdb9",
   "metadata": {},
   "outputs": [
    {
     "data": {
      "text/plain": [
       "'p'"
      ]
     },
     "execution_count": 2,
     "metadata": {},
     "output_type": "execute_result"
    }
   ],
   "source": [
    "data[0]"
   ]
  },
  {
   "cell_type": "code",
   "execution_count": 3,
   "id": "266958b0",
   "metadata": {},
   "outputs": [
    {
     "data": {
      "text/plain": [
       "'n'"
      ]
     },
     "execution_count": 3,
     "metadata": {},
     "output_type": "execute_result"
    }
   ],
   "source": [
    "data[-1]"
   ]
  },
  {
   "cell_type": "code",
   "execution_count": 4,
   "id": "a5e0fe4b",
   "metadata": {},
   "outputs": [
    {
     "name": "stdout",
     "output_type": "stream",
     "text": [
      "p\n",
      "y\n",
      "t\n",
      "h\n",
      "o\n",
      "n\n"
     ]
    }
   ],
   "source": [
    "#better option to find index using for loop\n",
    "\n",
    "for x in data:\n",
    "    print(x)"
   ]
  },
  {
   "cell_type": "code",
   "execution_count": 5,
   "id": "109717dd",
   "metadata": {},
   "outputs": [
    {
     "data": {
      "text/plain": [
       "range(0, 10)"
      ]
     },
     "execution_count": 5,
     "metadata": {},
     "output_type": "execute_result"
    }
   ],
   "source": [
    "range(10)"
   ]
  },
  {
   "cell_type": "code",
   "execution_count": 7,
   "id": "d005755d",
   "metadata": {},
   "outputs": [
    {
     "name": "stdout",
     "output_type": "stream",
     "text": [
      "p\n",
      "y\n",
      "t\n",
      "h\n",
      "o\n",
      "n\n"
     ]
    }
   ],
   "source": [
    "#another option to show index \n",
    "\n",
    "for x in range(len(data)):\n",
    "    print(data[x])"
   ]
  },
  {
   "cell_type": "code",
   "execution_count": 8,
   "id": "cd30fc15",
   "metadata": {},
   "outputs": [
    {
     "name": "stdout",
     "output_type": "stream",
     "text": [
      "p\n",
      "y\n",
      "t\n",
      "h\n",
      "o\n",
      "n\n"
     ]
    }
   ],
   "source": [
    "for x in range(6):\n",
    "    print(data[x])"
   ]
  },
  {
   "cell_type": "code",
   "execution_count": 12,
   "id": "4b7e1f3a",
   "metadata": {},
   "outputs": [
    {
     "name": "stdout",
     "output_type": "stream",
     "text": [
      "I\n",
      " \n",
      "l\n",
      "o\n",
      "v\n",
      "e\n",
      " \n",
      "M\n",
      "a\n",
      "c\n",
      "h\n",
      "i\n",
      "n\n",
      "e\n",
      " \n",
      "L\n",
      "e\n",
      "a\n",
      "r\n",
      "i\n",
      "n\n",
      "g\n",
      " \n",
      "s\n",
      "o\n",
      " \n",
      "m\n",
      "u\n",
      "c\n",
      "h\n"
     ]
    }
   ],
   "source": [
    "data ='I love Machine Learing so much'\n",
    "for x in range(len(data)):\n",
    "    print(data[x])"
   ]
  },
  {
   "cell_type": "code",
   "execution_count": 13,
   "id": "ba41010f",
   "metadata": {},
   "outputs": [
    {
     "name": "stdout",
     "output_type": "stream",
     "text": [
      "I\n",
      " \n",
      "l\n",
      "o\n",
      "v\n",
      "e\n"
     ]
    }
   ],
   "source": [
    "for x in range(6):\n",
    "    print(data[x])"
   ]
  },
  {
   "cell_type": "code",
   "execution_count": 14,
   "id": "565e6d38",
   "metadata": {},
   "outputs": [
    {
     "data": {
      "text/plain": [
       "['I', 'love', 'Machine', 'Learing', 'so', 'much']"
      ]
     },
     "execution_count": 14,
     "metadata": {},
     "output_type": "execute_result"
    }
   ],
   "source": [
    "data.split()"
   ]
  },
  {
   "cell_type": "code",
   "execution_count": 20,
   "id": "139c9386",
   "metadata": {},
   "outputs": [
    {
     "name": "stdout",
     "output_type": "stream",
     "text": [
      "I  ---Index: 0\n",
      "love  ---Index: 1\n",
      "Machine  ---Index: 2\n",
      "Learing  ---Index: 3\n",
      "so  ---Index: 4\n",
      "much  ---Index: 5\n"
     ]
    }
   ],
   "source": [
    "data ='I love Machine Learing so much'\n",
    "data =data.split()\n",
    "for x in range(len(data)):\n",
    "    print(data[x],' ---Index:' ,x)"
   ]
  },
  {
   "cell_type": "code",
   "execution_count": 23,
   "id": "d59b0bcc",
   "metadata": {},
   "outputs": [
    {
     "name": "stdout",
     "output_type": "stream",
     "text": [
      "2 2\n",
      "sum: 2\n",
      "5 3\n",
      "sum: 5\n",
      "9 4\n",
      "sum: 9\n",
      "29 20\n",
      "sum: 29\n",
      "89 60\n",
      "sum: 89\n",
      "166 77\n",
      "sum: 166\n",
      "266 100\n",
      "sum: 266\n"
     ]
    }
   ],
   "source": [
    "n=[2,3,4,20,60,77,100]\n",
    "total =0\n",
    "for x in n:\n",
    "    total =total+x\n",
    "    print(total,x)\n",
    "    print(\"sum:\", total)"
   ]
  },
  {
   "cell_type": "code",
   "execution_count": 27,
   "id": "fe0716e0",
   "metadata": {},
   "outputs": [
    {
     "name": "stdout",
     "output_type": "stream",
     "text": [
      "Machine Learning --Index: 0\n",
      "Machine Learning --Index: 1\n",
      "Machine Learning --Index: 2\n",
      "Machine Learning --Index: 3\n",
      "Machine Learning --Index: 4\n",
      "Machine Learning --Index: 5\n",
      "Machine Learning --Index: 6\n",
      "Machine Learning --Index: 7\n",
      "Machine Learning --Index: 8\n",
      "Machine Learning --Index: 9\n"
     ]
    }
   ],
   "source": [
    "for i in range(10):\n",
    "    print('Machine Learning', \"--Index:\",i)"
   ]
  },
  {
   "cell_type": "code",
   "execution_count": 30,
   "id": "e473cd21",
   "metadata": {},
   "outputs": [
    {
     "name": "stdout",
     "output_type": "stream",
     "text": [
      "Machine Learning ---Index: 5\n",
      "Machine Learning ---Index: 6\n",
      "Machine Learning ---Index: 7\n",
      "Machine Learning ---Index: 8\n",
      "Machine Learning ---Index: 9\n"
     ]
    }
   ],
   "source": [
    "for i in range(5,10):  #n-1\n",
    "    print(\"Machine Learning\", \"---Index:\",i)"
   ]
  },
  {
   "cell_type": "code",
   "execution_count": 31,
   "id": "bf8579b9",
   "metadata": {},
   "outputs": [
    {
     "name": "stdout",
     "output_type": "stream",
     "text": [
      "Machine Learning ---Index: 5\n",
      "Machine Learning ---Index: 7\n",
      "Machine Learning ---Index: 9\n"
     ]
    }
   ],
   "source": [
    "for i in range(5,10,2): # i =i+2\n",
    "    print(\"Machine Learning\", \"---Index:\",i)"
   ]
  },
  {
   "cell_type": "code",
   "execution_count": 37,
   "id": "142deb50",
   "metadata": {},
   "outputs": [
    {
     "name": "stdout",
     "output_type": "stream",
     "text": [
      "Machine Learning ---Index: 100\n",
      "Machine Learning ---Index: 90\n",
      "Machine Learning ---Index: 80\n",
      "Machine Learning ---Index: 70\n",
      "Machine Learning ---Index: 60\n"
     ]
    }
   ],
   "source": [
    "for i in range(100,50,-10):\n",
    "    print(\"Machine Learning\", \"---Index:\",i)"
   ]
  },
  {
   "cell_type": "code",
   "execution_count": 41,
   "id": "38bcb89b",
   "metadata": {},
   "outputs": [
    {
     "name": "stdout",
     "output_type": "stream",
     "text": [
      "10\n",
      "9\n",
      "8\n",
      "7\n",
      "6\n",
      "5\n",
      "4\n",
      "3\n",
      "2\n",
      "1\n"
     ]
    }
   ],
   "source": [
    "for i in range(10,0,-1):\n",
    "    print(i)"
   ]
  },
  {
   "cell_type": "code",
   "execution_count": 42,
   "id": "16da2029",
   "metadata": {},
   "outputs": [
    {
     "name": "stdout",
     "output_type": "stream",
     "text": [
      "10\n",
      "8\n",
      "6\n",
      "4\n",
      "2\n"
     ]
    }
   ],
   "source": [
    "for i in range(10,0,-2):\n",
    "    print(i)"
   ]
  }
 ],
 "metadata": {
  "kernelspec": {
   "display_name": "Python 3 (ipykernel)",
   "language": "python",
   "name": "python3"
  },
  "language_info": {
   "codemirror_mode": {
    "name": "ipython",
    "version": 3
   },
   "file_extension": ".py",
   "mimetype": "text/x-python",
   "name": "python",
   "nbconvert_exporter": "python",
   "pygments_lexer": "ipython3",
   "version": "3.9.13"
  }
 },
 "nbformat": 4,
 "nbformat_minor": 5
}
