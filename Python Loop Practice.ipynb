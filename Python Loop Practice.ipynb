{
 "cells": [
  {
   "cell_type": "code",
   "execution_count": 44,
   "id": "02cf7cb9",
   "metadata": {},
   "outputs": [
    {
     "name": "stdout",
     "output_type": "stream",
     "text": [
      "-10\n",
      "-9\n",
      "-8\n",
      "-7\n",
      "-6\n",
      "-5\n",
      "-4\n",
      "-3\n",
      "-2\n"
     ]
    }
   ],
   "source": [
    "#1. Display number form -10 to -2 usning for loop.\n",
    "\n",
    "for i in range(-10, -1):\n",
    "    print(i)"
   ]
  },
  {
   "cell_type": "code",
   "execution_count": 61,
   "id": "d1ca1dc3",
   "metadata": {},
   "outputs": [
    {
     "name": "stdout",
     "output_type": "stream",
     "text": [
      "1043\n"
     ]
    }
   ],
   "source": [
    "#2. Write a program to sum all prime numbers within a range 10 to 15.\n",
    "\n",
    "sum1 = 0\n",
    "for x in range(10,100) :\n",
    "    for i in range(2,x):\n",
    "        if x % i == 0 :\n",
    "            break\n",
    "    else:\n",
    "        sum1 = sum1 + x\n",
    "print(sum1)"
   ]
  },
  {
   "cell_type": "code",
   "execution_count": 65,
   "id": "8d803140",
   "metadata": {},
   "outputs": [
    {
     "name": "stdout",
     "output_type": "stream",
     "text": [
      "Enter your number:100\n",
      "1043\n"
     ]
    }
   ],
   "source": [
    "#2. Write a program to sum all prime numbers within a range 10 to 100.\n",
    "num= int(input(\"Enter your number:\"))\n",
    "sum1=0\n",
    "for x in range(10,num) :\n",
    "    for i in range(2,x):\n",
    "        if x % i == 0 :\n",
    "            break\n",
    "    else:\n",
    "        sum1 = sum1 + x\n",
    "print(sum1)"
   ]
  },
  {
   "cell_type": "code",
   "execution_count": 20,
   "id": "4d76ae06",
   "metadata": {},
   "outputs": [
    {
     "name": "stdout",
     "output_type": "stream",
     "text": [
      "Enter the factorial Number: 0\n",
      "Factorial is: 0\n"
     ]
    }
   ],
   "source": [
    "#3. Find the factorial of a n!.(hint, n=7: 7*6*5*4*3*2*1)\n",
    "\n",
    "fac = int(input(\"Enter the factorial Number: \"))\n",
    "\n",
    "fact=1\n",
    "if fac<0:\n",
    "    print(\"Factorial does not enter.\",fact)\n",
    "elif fac==0:\n",
    "    print('Factorial is:',fac)\n",
    "else:\n",
    "    for i in range(1,fac+1):\n",
    "        fact=fact*i\n",
    "    print(\"The factorial Number is:\",fact)"
   ]
  },
  {
   "cell_type": "code",
   "execution_count": 40,
   "id": "e13dc7fc",
   "metadata": {},
   "outputs": [
    {
     "name": "stdout",
     "output_type": "stream",
     "text": [
      "Enter the number: 04344404710\n",
      "The reverse number is: 01740444340\n"
     ]
    }
   ],
   "source": [
    "#4. Reverse a given integger number 04344404710\n",
    "\n",
    "rev=input(\"Enter the number: \")\n",
    "\n",
    "Reverse=''\n",
    "for i in range(len(rev),0,-1):\n",
    "    Reverse+=rev[i-1]\n",
    "print(\"The reverse number is:\", Reverse)"
   ]
  },
  {
   "cell_type": "code",
   "execution_count": null,
   "id": "d4734c28",
   "metadata": {},
   "outputs": [],
   "source": []
  }
 ],
 "metadata": {
  "kernelspec": {
   "display_name": "Python 3 (ipykernel)",
   "language": "python",
   "name": "python3"
  },
  "language_info": {
   "codemirror_mode": {
    "name": "ipython",
    "version": 3
   },
   "file_extension": ".py",
   "mimetype": "text/x-python",
   "name": "python",
   "nbconvert_exporter": "python",
   "pygments_lexer": "ipython3",
   "version": "3.9.13"
  }
 },
 "nbformat": 4,
 "nbformat_minor": 5
}
