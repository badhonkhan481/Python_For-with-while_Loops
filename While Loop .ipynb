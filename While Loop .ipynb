{
 "cells": [
  {
   "cell_type": "code",
   "execution_count": 3,
   "id": "314cb2a5",
   "metadata": {},
   "outputs": [
    {
     "name": "stdout",
     "output_type": "stream",
     "text": [
      "0\n",
      "1\n",
      "2\n",
      "3\n",
      "4\n",
      "5\n",
      "6\n",
      "7\n",
      "8\n",
      "9\n"
     ]
    }
   ],
   "source": [
    "i=0\n",
    "while (i<10):\n",
    "    print(i)\n",
    "    i+=1 #or i=i+1"
   ]
  },
  {
   "cell_type": "code",
   "execution_count": 4,
   "id": "4ebaa283",
   "metadata": {},
   "outputs": [
    {
     "name": "stdout",
     "output_type": "stream",
     "text": [
      "0 Computer Science\n",
      "2 Computer Science\n",
      "4 Computer Science\n",
      "6 Computer Science\n",
      "8 Computer Science\n",
      "10 Computer Science\n"
     ]
    }
   ],
   "source": [
    "i=0\n",
    "while (i<=10):\n",
    "    print(i,\"Computer Science\")\n",
    "    i=i+2\n",
    "    "
   ]
  },
  {
   "cell_type": "code",
   "execution_count": 6,
   "id": "643a2353",
   "metadata": {},
   "outputs": [
    {
     "data": {
      "text/plain": [
       "'p'"
      ]
     },
     "execution_count": 6,
     "metadata": {},
     "output_type": "execute_result"
    }
   ],
   "source": [
    "data=\"python\"\n",
    "data[0]"
   ]
  },
  {
   "cell_type": "code",
   "execution_count": 9,
   "id": "f8bfc688",
   "metadata": {},
   "outputs": [
    {
     "name": "stdout",
     "output_type": "stream",
     "text": [
      "p\n",
      "y\n",
      "t\n",
      "h\n",
      "o\n",
      "n\n"
     ]
    }
   ],
   "source": [
    "index=0\n",
    "while index<len(data):\n",
    "    print(data[index])\n",
    "    index=index+1\n",
    "    "
   ]
  },
  {
   "cell_type": "code",
   "execution_count": 12,
   "id": "5dbf801a",
   "metadata": {},
   "outputs": [
    {
     "name": "stdout",
     "output_type": "stream",
     "text": [
      "I\n",
      " \n",
      "l\n",
      "o\n",
      "v\n",
      "e\n",
      " \n",
      "C\n",
      "o\n",
      "m\n",
      "p\n",
      "u\n",
      "t\n",
      "e\n",
      "r\n",
      " \n",
      "S\n",
      "c\n",
      "i\n",
      "e\n",
      "c\n",
      "n\n",
      "e\n"
     ]
    }
   ],
   "source": [
    "data=\"I love Computer Sciecne\"\n",
    "index=0\n",
    "while index<len(data):\n",
    "    print(data[index])\n",
    "    index=index+1"
   ]
  },
  {
   "cell_type": "code",
   "execution_count": 13,
   "id": "51bb93f4",
   "metadata": {},
   "outputs": [
    {
     "name": "stdout",
     "output_type": "stream",
     "text": [
      "I\n",
      "love\n",
      "Computer\n",
      "Sciecne\n"
     ]
    }
   ],
   "source": [
    "data=\"I love Computer Sciecne\"\n",
    "data= data.split()\n",
    "index=0\n",
    "while index<len(data):\n",
    "    print(data[index])\n",
    "    index=index+1"
   ]
  },
  {
   "cell_type": "code",
   "execution_count": 18,
   "id": "d1c3260a",
   "metadata": {},
   "outputs": [
    {
     "name": "stdout",
     "output_type": "stream",
     "text": [
      "0 2\n",
      "1 5\n",
      "2 9\n",
      "3 64\n",
      "4 124\n",
      "5 201\n",
      "6 301\n",
      "301\n"
     ]
    }
   ],
   "source": [
    "n=[2,3,4,55,60,77,100]\n",
    "\n",
    "total=0\n",
    "index=0\n",
    "while(index<len(n)):\n",
    "    total=total+n[index]\n",
    "    print(index,total)\n",
    "    index+=1\n",
    "print(total)"
   ]
  },
  {
   "cell_type": "code",
   "execution_count": 47,
   "id": "cf836bf9",
   "metadata": {},
   "outputs": [
    {
     "name": "stdout",
     "output_type": "stream",
     "text": [
      "-10\n",
      "-9\n",
      "-8\n",
      "-7\n",
      "-6\n",
      "-5\n",
      "-4\n",
      "-3\n",
      "-2\n"
     ]
    }
   ],
   "source": [
    "#1. Display numbers from -10 to -2 using while loop.\n",
    "i=-10\n",
    "while (i<=-2):\n",
    "    print(i)\n",
    "    i=i+1"
   ]
  },
  {
   "cell_type": "code",
   "execution_count": 54,
   "id": "3bce3219",
   "metadata": {},
   "outputs": [
    {
     "name": "stdout",
     "output_type": "stream",
     "text": [
      "24\n"
     ]
    }
   ],
   "source": [
    "#2. Write a program to sum all prime numbers within a range 10 to 15\n",
    "num = 10\n",
    "sum = 0\n",
    "while num <= 15:\n",
    "    if num > 1:\n",
    "        for i in range(2, num):\n",
    "            if (num % i) == 0:\n",
    "                break\n",
    "        else:\n",
    "            sum += num\n",
    "    num += 1\n",
    "print(sum)"
   ]
  },
  {
   "cell_type": "code",
   "execution_count": 55,
   "id": "c7505413",
   "metadata": {},
   "outputs": [
    {
     "name": "stdout",
     "output_type": "stream",
     "text": [
      "Enter number: 7\n",
      "Factorial=  5040\n"
     ]
    }
   ],
   "source": [
    "#3. Find the factorial of a n!. (hint, n=7: 7*6*5*4*3*2*1)\n",
    "\n",
    "fact = 1\n",
    "x=1\n",
    "num = int(input('Enter number: '))\n",
    "while x<=num:\n",
    "  fact=fact*x\n",
    "  x+=1\n",
    "print ('Factorial= ',fact)"
   ]
  },
  {
   "cell_type": "code",
   "execution_count": 63,
   "id": "be793c41",
   "metadata": {},
   "outputs": [
    {
     "name": "stdout",
     "output_type": "stream",
     "text": [
      "Enter Your number: 01740444340\n",
      "Enter Your Reverse 04344404710\n"
     ]
    }
   ],
   "source": [
    "#4. Reverse a given integer number \n",
    "num = input(\"Enter Your number: \")\n",
    "x=len(num)-1\n",
    "reverse=''\n",
    "while(x>=0):\n",
    "   reverse+=num[x]\n",
    "   x-=1\n",
    "print('Enter Your Reverse',reverse)\n"
   ]
  },
  {
   "cell_type": "code",
   "execution_count": null,
   "id": "62a97801",
   "metadata": {},
   "outputs": [],
   "source": []
  }
 ],
 "metadata": {
  "kernelspec": {
   "display_name": "Python 3 (ipykernel)",
   "language": "python",
   "name": "python3"
  },
  "language_info": {
   "codemirror_mode": {
    "name": "ipython",
    "version": 3
   },
   "file_extension": ".py",
   "mimetype": "text/x-python",
   "name": "python",
   "nbconvert_exporter": "python",
   "pygments_lexer": "ipython3",
   "version": "3.9.13"
  }
 },
 "nbformat": 4,
 "nbformat_minor": 5
}
